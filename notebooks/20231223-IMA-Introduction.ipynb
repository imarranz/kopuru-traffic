{
 "cells": [
  {
   "cell_type": "markdown",
   "id": "d44390a2-30b8-4d20-ba7e-afc1c175304e",
   "metadata": {},
   "source": [
    "## Introducción"
   ]
  },
  {
   "cell_type": "markdown",
   "id": "a9cdb0ea-58e8-4c4d-b1cb-a5b547fb4afc",
   "metadata": {},
   "source": [
    "El estudio de la predicción del tráfico en la entrada de un polígono industrial es un tema de gran relevancia en la actualidad. La capacidad de anticipar y comprender la dinámica del tráfico en esta área puede tener un impacto significativo en la eficiencia operativa, la seguridad vial y la calidad de vida de quienes trabajan en dicho polígono o transitan por él. En este contexto, es crucial considerar y analizar los diversos intentos de modelización del tráfico que se han desarrollado a lo largo del tiempo.\n",
    "\n",
    "Uno de los enfoques más notables en la modelización del tráfico es el uso de modelos como el de [Nagel-Schreckenberg](https://es.wikipedia.org/wiki/Modelo_Nagel-Schreckenberg). Estos modelos son una herramienta valiosa para comprender la compleja interacción de vehículos en una carretera o área de tráfico. El modelo de Nagel-Schreckenberg se basa en principios simples pero efectivos que capturan la esencia del tráfico vehicular.\n",
    "\n",
    "En esencia, el modelo de Nagel-Schreckenberg se enfoca en la simulación de vehículos que se mueven en una carretera unidimensional con un número discreto de casillas. Cada vehículo sigue reglas sencillas, como la aceleración, la desaceleración y la posibilidad de detenerse por completo. Estas reglas se inspiran en el comportamiento real de los conductores en situaciones de tráfico. Además, el modelo tiene en cuenta factores como la distancia de seguimiento y la velocidad máxima permitida en la carretera.\n",
    "\n",
    "A medida que los vehículos interactúan entre sí y con las condiciones de la carretera, el modelo de Nagel-Schreckenberg puede proporcionar una visión simplificada pero útil de cómo se desarrolla el tráfico, cómo se forman los atascos y cómo fluye el tráfico en una carretera o entrada de un polígono industrial. Estos modelos son un punto de partida valioso para comprender la dinámica del tráfico y, a menudo, se utilizan como base para investigaciones más avanzadas en el campo de la predicción del tráfico."
   ]
  },
  {
   "cell_type": "raw",
   "id": "08cde092-59c4-4016-b710-facc4b06b106",
   "metadata": {},
   "source": [
    "\\begin{figure}\n",
    "\\centering\n",
    "\\includegraphics[width=0.5\\linewidth]{figures/Nagel-Schreckenberg-model.png}\n",
    "\\caption{Gráfico de la velocidad promedio en función de la densidad de automóviles por celda, rho, en el modelo de Nagel-Schreckenberg. La curva negra es para p = 0, es decir, para el límite determinista, mientras que la curva roja es para p = 0,3. Imagen tomada de Wikipedia.}\n",
    "\\label{fig:nagel-schreckenberg-model}\n",
    "\\end{figure}"
   ]
  },
  {
   "cell_type": "markdown",
   "id": "37e73d8f-94a9-49fe-8e1c-bc1f8a718aeb",
   "metadata": {},
   "source": [
    "A pesar de que el modelo de Nagel-Schreckenberg representa una modelización bastante fidedigna de la dinámica del tráfico en carreteras, su aplicación directa a la entrada de un polígono industrial plantea desafíos adicionales. En la práctica, no siempre disponemos de todos los datos necesarios para simular con precisión un entorno de tráfico específico, y esto se complica aún más cuando consideramos la presencia de diferentes tipos de vehículos, como coches, camiones, autobuses y bicicletas en la misma área.\n",
    "\n",
    "La realidad es que el tráfico en la entrada de un polígono industrial es un sistema altamente complejo y dinámico, influenciado por una multitud de variables, como los horarios de entrada y salida de los trabajadores, la disponibilidad de estacionamiento, las condiciones meteorológicas y otros factores impredecibles. En este contexto, la utilización de técnicas de machine learning se presenta como una solución prometedora para abordar el problema de la predicción del tráfico.\n",
    "\n",
    "El machine learning nos permite aprovechar grandes conjuntos de datos históricos y aprender patrones complejos y relaciones ocultas entre las variables que afectan al tráfico. Al utilizar algoritmos de aprendizaje automático, podemos desarrollar modelos predictivos que se adapten a las condiciones cambiantes y, a medida que disponemos de más datos, mejoran su capacidad para predecir el comportamiento del tráfico en la entrada del polígono industrial. En este estudio, exploraremos cómo las técnicas de machine learning pueden ayudarnos a superar las limitaciones de los modelos tradicionales y proporcionar predicciones más precisas y útiles para la gestión eficiente del tráfico en este entorno complejo y diverso."
   ]
  },
  {
   "cell_type": "markdown",
   "id": "621aa4d3-9f42-4e68-9c0c-294df7a3381c",
   "metadata": {},
   "source": [
    "\\clearpage\n",
    "\\newpage"
   ]
  }
 ],
 "metadata": {
  "kernelspec": {
   "display_name": "Python 3 (ipykernel)",
   "language": "python",
   "name": "python3"
  },
  "language_info": {
   "codemirror_mode": {
    "name": "ipython",
    "version": 3
   },
   "file_extension": ".py",
   "mimetype": "text/x-python",
   "name": "python",
   "nbconvert_exporter": "python",
   "pygments_lexer": "ipython3",
   "version": "3.9.16"
  },
  "widgets": {
   "application/vnd.jupyter.widget-state+json": {
    "state": {},
    "version_major": 2,
    "version_minor": 0
   }
  }
 },
 "nbformat": 4,
 "nbformat_minor": 5
}
